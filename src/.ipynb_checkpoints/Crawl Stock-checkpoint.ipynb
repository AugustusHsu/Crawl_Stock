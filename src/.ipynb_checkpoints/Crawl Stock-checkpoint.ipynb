{
 "cells": [
  {
   "cell_type": "code",
   "execution_count": 1,
   "metadata": {},
   "outputs": [
    {
     "data": {
      "text/plain": [
       "['1560', '2002', '2317', '2330', '2332', '2409', '3008', '3481']"
      ]
     },
     "execution_count": 1,
     "metadata": {},
     "output_type": "execute_result"
    }
   ],
   "source": [
    "import CrawlStock\n",
    "import datetime\n",
    "Stock_ID = ['1560','2002','2317','2330','2332','2409','3008','3481']\n",
    "Stock_ID"
   ]
  },
  {
   "cell_type": "code",
   "execution_count": 6,
   "metadata": {},
   "outputs": [
    {
     "data": {
      "text/plain": [
       "'9962'"
      ]
     },
     "execution_count": 6,
     "metadata": {},
     "output_type": "execute_result"
    }
   ],
   "source": [
    "import pandas as pd\n",
    "import numpy as np\n",
    "StockID = pd.read_pickle('../data/StockIDList.pickle')\n",
    "\n",
    "StockID = np.array(StockID)\n",
    "StockID.shape\n",
    "StockIDList = []\n",
    "for ID in StockID:\n",
    "    strID = str(ID)\n",
    "    StockIDList.append(strID[2:-2])\n",
    "StockIDList"
   ]
  },
  {
   "cell_type": "code",
   "execution_count": 3,
   "metadata": {},
   "outputs": [],
   "source": [
    "#CrawlStock.Get_Stock_DATA(Stock_ID=Stock_ID, First_Day=datetime.datetime.today())"
   ]
  },
  {
   "cell_type": "code",
   "execution_count": 4,
   "metadata": {},
   "outputs": [
    {
     "name": "stdout",
     "output_type": "stream",
     "text": [
      "['1560.csv', '2002.csv', '2317.csv', '2330.csv', '2332.csv', '2409.csv', '3008.csv', '3481.csv']\n",
      "Update...\n",
      "1560\n",
      "From 2017/09/09 to 2017/09/10 (Today)\n",
      "抓取1560 第2017年09月09日\n",
      "抓取1560 第2017年09月10日\n",
      "2002\n",
      "From 2017/09/09 to 2017/09/10 (Today)\n",
      "抓取2002 第2017年09月09日\n",
      "抓取2002 第2017年09月10日\n",
      "2317\n",
      "From 2017/09/09 to 2017/09/10 (Today)\n",
      "抓取2317 第2017年09月09日\n",
      "抓取2317 第2017年09月10日\n",
      "2330\n",
      "From 2017/09/09 to 2017/09/10 (Today)\n",
      "抓取2330 第2017年09月09日\n",
      "抓取2330 第2017年09月10日\n",
      "2332\n",
      "From 2017/09/09 to 2017/09/10 (Today)\n",
      "抓取2332 第2017年09月09日\n",
      "抓取2332 第2017年09月10日\n",
      "2409\n",
      "From 2017/09/09 to 2017/09/10 (Today)\n",
      "抓取2409 第2017年09月09日\n",
      "抓取2409 第2017年09月10日\n",
      "3008\n",
      "From 2017/09/09 to 2017/09/10 (Today)\n",
      "抓取3008 第2017年09月09日\n",
      "抓取3008 第2017年09月10日\n",
      "3481\n",
      "From 2017/09/09 to 2017/09/10 (Today)\n",
      "抓取3481 第2017年09月09日\n",
      "抓取3481 第2017年09月10日\n"
     ]
    }
   ],
   "source": [
    "CrawlStock.DailyUpdate()"
   ]
  },
  {
   "cell_type": "code",
   "execution_count": 59,
   "metadata": {},
   "outputs": [
    {
     "name": "stdout",
     "output_type": "stream",
     "text": [
      "['1560.csv', '2002.csv', '2317.csv', '2330.csv', '2332.csv', '2409.csv', '3008.csv', '3481.csv']\n"
     ]
    }
   ],
   "source": [
    "DataList = os.listdir(\"../data\")\n",
    "print(DataList[0:-2])"
   ]
  },
  {
   "cell_type": "code",
   "execution_count": null,
   "metadata": {
    "collapsed": true
   },
   "outputs": [],
   "source": []
  }
 ],
 "metadata": {
  "kernelspec": {
   "display_name": "Python 3",
   "language": "python",
   "name": "python3"
  },
  "language_info": {
   "codemirror_mode": {
    "name": "ipython",
    "version": 3
   },
   "file_extension": ".py",
   "mimetype": "text/x-python",
   "name": "python",
   "nbconvert_exporter": "python",
   "pygments_lexer": "ipython3",
   "version": "3.6.1"
  }
 },
 "nbformat": 4,
 "nbformat_minor": 2
}
