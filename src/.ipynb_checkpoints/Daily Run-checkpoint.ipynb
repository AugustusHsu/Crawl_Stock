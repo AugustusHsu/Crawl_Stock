{
 "cells": [
  {
   "cell_type": "code",
   "execution_count": 2,
   "metadata": {},
   "outputs": [
    {
     "name": "stdout",
     "output_type": "stream",
     "text": [
      "['1560.csv', '2002.csv', '2317.csv', '2330.csv', '2332.csv', '2409.csv', '3008.csv', '3481.csv']\n",
      "Update...\n",
      "1560\n",
      "From 2017/08/17 to 2017/08/16 (Today)\n",
      "2002\n",
      "From 2017/08/17 to 2017/08/16 (Today)\n",
      "2317\n",
      "From 2017/08/17 to 2017/08/16 (Today)\n",
      "2330\n",
      "From 2017/08/17 to 2017/08/16 (Today)\n",
      "2332\n",
      "From 2017/08/17 to 2017/08/16 (Today)\n",
      "2409\n",
      "From 2017/08/17 to 2017/08/16 (Today)\n",
      "3008\n",
      "From 2017/08/17 to 2017/08/16 (Today)\n",
      "3481\n",
      "From 2017/08/17 to 2017/08/16 (Today)\n"
     ]
    },
    {
     "data": {
      "text/plain": [
       "[]"
      ]
     },
     "execution_count": 2,
     "metadata": {},
     "output_type": "execute_result"
    }
   ],
   "source": [
    "import CrawlStock\n",
    "import lstm\n",
    "import pandas as pd\n",
    "\n",
    "CrawlStock.DailyUpdate()\n",
    "Stock_ID = ['2330','2002','3008','2332','1560','2317','3481','2409']\n",
    "CrawlID = CrawlStock.CheckCSV(Stock_ID)\n",
    "#CrawlStock.Get_Stock_DATA(Stock_ID = CrawlID)\n",
    "CrawlID"
   ]
  },
  {
   "cell_type": "code",
   "execution_count": 1,
   "metadata": {
    "scrolled": true
   },
   "outputs": [
    {
     "name": "stderr",
     "output_type": "stream",
     "text": [
      "Using TensorFlow backend.\n"
     ]
    },
    {
     "name": "stdout",
     "output_type": "stream",
     "text": [
      "Predict the 0.h5 model\n",
      "Predict duration (s) :  6.841378211975098\n",
      "Predict the 1.h5 model\n",
      "Predict duration (s) :  7.716966152191162\n",
      "Predict the 2.h5 model\n",
      "Predict duration (s) :  8.373245000839233\n",
      "Predict the 3.h5 model\n",
      "Predict duration (s) :  9.583545923233032\n",
      "Predict the 4.h5 model\n",
      "Predict duration (s) :  9.839440107345581\n",
      "Predict the 5.h5 model\n",
      "Predict duration (s) :  10.859285831451416\n",
      "Predict the 6.h5 model\n",
      "Predict duration (s) :  11.530416250228882\n",
      "Predict the 7.h5 model\n",
      "Predict duration (s) :  12.18460488319397\n",
      "Predict the 8.h5 model\n",
      "Predict duration (s) :  13.738031148910522\n",
      "Predict the 9.h5 model\n",
      "Predict duration (s) :  16.57168197631836\n",
      "Predict the 10.h5 model\n",
      "Predict duration (s) :  17.129250049591064\n",
      "Predict the 11.h5 model\n",
      "Predict duration (s) :  17.056939125061035\n",
      "Predict the 12.h5 model\n",
      "Predict duration (s) :  15.80750584602356\n",
      "Predict the 13.h5 model\n",
      "Predict duration (s) :  15.511752843856812\n",
      "Predict the 14.h5 model\n",
      "Predict duration (s) :  18.08656406402588\n",
      "Predict the 15.h5 model\n",
      "Predict duration (s) :  17.77471089363098\n",
      "Predict the 16.h5 model\n",
      "Predict duration (s) :  19.871138095855713\n",
      "Predict the 17.h5 model\n",
      "Predict duration (s) :  20.48165726661682\n",
      "Predict the 18.h5 model\n",
      "Predict duration (s) :  21.334837913513184\n",
      "Predict the 19.h5 model\n",
      "Predict duration (s) :  24.326921939849854\n",
      "Predict the 20.h5 model\n",
      "Predict duration (s) :  25.832311153411865\n",
      "Predict the 21.h5 model\n",
      "Predict duration (s) :  28.574646949768066\n",
      "Predict the 22.h5 model\n",
      "Predict duration (s) :  36.30817270278931\n",
      "Predict the 23.h5 model\n",
      "Predict duration (s) :  34.785269021987915\n",
      "Predict the 24.h5 model\n",
      "Predict duration (s) :  21.293097972869873\n",
      "Predict the 25.h5 model\n",
      "Predict duration (s) :  24.90844178199768\n",
      "Predict the 26.h5 model\n",
      "Predict duration (s) :  26.124328136444092\n",
      "Predict the 27.h5 model\n",
      "Predict duration (s) :  28.23514223098755\n",
      "Predict the 28.h5 model\n",
      "Predict duration (s) :  28.764811038970947\n",
      "Predict the 29.h5 model\n",
      "Predict duration (s) :  27.791869163513184\n",
      "Predict the 30.h5 model\n",
      "Predict duration (s) :  29.382404804229736\n",
      "Predict the 31.h5 model\n",
      "Predict duration (s) :  29.030899047851562\n",
      "Predict the 32.h5 model\n",
      "Predict duration (s) :  31.867248058319092\n",
      "Predict the 33.h5 model\n",
      "Predict duration (s) :  35.702279806137085\n",
      "Predict the 34.h5 model\n",
      "Predict duration (s) :  38.06485605239868\n",
      "Predict the 35.h5 model\n",
      "Predict duration (s) :  41.34493899345398\n",
      "Predict the 36.h5 model\n",
      "Predict duration (s) :  27.80579900741577\n",
      "Predict the 37.h5 model\n",
      "Predict duration (s) :  26.93056321144104\n",
      "Predict the 38.h5 model\n",
      "Predict duration (s) :  29.071521759033203\n",
      "Predict the 39.h5 model\n",
      "Predict duration (s) :  29.14114999771118\n",
      "Predict the 40.h5 model\n",
      "Predict duration (s) :  32.03848481178284\n",
      "Predict the 41.h5 model\n",
      "Predict duration (s) :  32.043354749679565\n",
      "Predict the 42.h5 model\n",
      "Predict duration (s) :  32.47616481781006\n",
      "Predict the 43.h5 model\n",
      "Predict duration (s) :  33.837177991867065\n",
      "Predict the 44.h5 model\n",
      "Predict duration (s) :  35.232316970825195\n",
      "Predict the 45.h5 model\n",
      "Predict duration (s) :  39.81812286376953\n",
      "Predict the 46.h5 model\n",
      "Predict duration (s) :  43.194339752197266\n",
      "Predict the 47.h5 model\n",
      "Predict duration (s) :  41.70146989822388\n",
      "Predict the 48.h5 model\n",
      "Predict duration (s) :  32.189732789993286\n",
      "Predict the 49.h5 model\n",
      "Predict duration (s) :  32.82141375541687\n",
      "Predict the 50.h5 model\n",
      "Predict duration (s) :  35.12205219268799\n",
      "Predict the 51.h5 model\n",
      "Predict duration (s) :  35.98018002510071\n",
      "Predict the 52.h5 model\n",
      "Predict duration (s) :  37.07252812385559\n",
      "Predict the 53.h5 model\n",
      "Predict duration (s) :  42.25872468948364\n",
      "Predict the 54.h5 model\n",
      "Predict duration (s) :  45.03207612037659\n",
      "Predict the 55.h5 model\n",
      "Predict duration (s) :  45.55530285835266\n",
      "Predict the 56.h5 model\n",
      "Predict duration (s) :  44.77669095993042\n",
      "Predict the 57.h5 model\n",
      "Predict duration (s) :  47.87095808982849\n",
      "Predict the 58.h5 model\n",
      "Predict duration (s) :  52.47963213920593\n",
      "Predict the 59.h5 model\n",
      "Predict duration (s) :  48.48856592178345\n",
      "Predict the 60.h5 model\n",
      "Predict duration (s) :  37.54355216026306\n",
      "Predict the 61.h5 model\n",
      "Predict duration (s) :  38.679094076156616\n",
      "Predict the 62.h5 model\n",
      "Predict duration (s) :  39.82742094993591\n",
      "Predict the 63.h5 model\n",
      "Predict duration (s) :  44.037814140319824\n",
      "Predict the 64.h5 model\n",
      "Predict duration (s) :  41.98609471321106\n",
      "Predict the 65.h5 model\n",
      "Predict duration (s) :  43.10940599441528\n",
      "Predict the 66.h5 model\n",
      "Predict duration (s) :  42.66307997703552\n",
      "Predict the 67.h5 model\n",
      "Predict duration (s) :  44.24551296234131\n",
      "Predict the 68.h5 model\n",
      "Predict duration (s) :  45.223212242126465\n",
      "Predict the 69.h5 model\n",
      "Predict duration (s) :  48.69783592224121\n",
      "Predict the 70.h5 model\n",
      "Predict duration (s) :  50.68157505989075\n",
      "Predict the 71.h5 model\n",
      "Predict duration (s) :  50.37114596366882\n",
      "Predict the 72.h5 model\n",
      "Predict duration (s) :  44.11899709701538\n",
      "Predict the 73.h5 model\n",
      "Predict duration (s) :  47.969950914382935\n",
      "Predict the 74.h5 model\n",
      "Predict duration (s) :  45.70085096359253\n",
      "Predict the 75.h5 model\n",
      "Predict duration (s) :  46.193374156951904\n",
      "Predict the 76.h5 model\n",
      "Predict duration (s) :  47.28674101829529\n",
      "Predict the 77.h5 model\n",
      "Predict duration (s) :  48.6262731552124\n",
      "Predict the 78.h5 model\n",
      "Predict duration (s) :  49.35326910018921\n",
      "Predict the 79.h5 model\n",
      "Predict duration (s) :  49.64489388465881\n",
      "Predict the 80.h5 model\n",
      "Predict duration (s) :  51.34327507019043\n",
      "Predict the 81.h5 model\n",
      "Predict duration (s) :  53.897656202316284\n",
      "Predict the 82.h5 model\n",
      "Predict duration (s) :  55.282959938049316\n",
      "Predict the 83.h5 model\n",
      "Predict duration (s) :  56.11771202087402\n",
      "Predict the 84.h5 model\n",
      "Predict duration (s) :  49.29567313194275\n",
      "Predict the 85.h5 model\n",
      "Predict duration (s) :  50.29869294166565\n",
      "Predict the 86.h5 model\n",
      "Predict duration (s) :  56.52832102775574\n",
      "Predict the 87.h5 model\n",
      "Predict duration (s) :  51.91577863693237\n",
      "Predict the 88.h5 model\n",
      "Predict duration (s) :  53.02478098869324\n",
      "Predict the 89.h5 model\n",
      "Predict duration (s) :  62.32885503768921\n",
      "Predict the 90.h5 model\n",
      "Predict duration (s) :  59.17549800872803\n",
      "Predict the 91.h5 model\n",
      "Predict duration (s) :  56.76125693321228\n",
      "Predict the 92.h5 model\n",
      "Predict duration (s) :  57.08675813674927\n",
      "Predict the 93.h5 model\n",
      "Predict duration (s) :  60.06302309036255\n",
      "Predict the 94.h5 model\n",
      "Predict duration (s) :  59.90710806846619\n",
      "Predict the 95.h5 model\n",
      "Predict duration (s) :  61.25929808616638\n",
      "Total predict duration (s) :  3485.838793992996\n"
     ]
    }
   ],
   "source": [
    "import pandas as pd\n",
    "import lstm\n",
    "import time\n",
    "import keras\n",
    "import numpy as np\n",
    "\n",
    "ColumnList = ['成交股數','成交金額','開盤價','最高價','最低價','收盤價','漲跌價差','成交筆數',]\n",
    "\n",
    "global_start_time = time.time()\n",
    "PredictInformation = pd.read_pickle(\"../predict/PredictInformation.pickle\")\n",
    "\n",
    "for i in range(len(PredictInformation)):\n",
    "    forloop_start_time = time.time()\n",
    "    #\n",
    "    FileName = PredictInformation['FileName'][i]\n",
    "    WindowSize = PredictInformation['WindowSize'][i]\n",
    "    NumOfPredictDay = PredictInformation['NumOfPredictDay'][i]\n",
    "    PredictCSVName = PredictInformation['PredictCSVName'][i]\n",
    "    \n",
    "    print('Predict the ' + str(i) + '.h5 model')\n",
    "    \n",
    "    #載入資料\n",
    "    DataSet = lstm.LoadData(FileName, ColumnList, WindowSize, NumOfPredictDay)\n",
    "    #正規化資料\n",
    "    NormalizeData = lstm.NormaliseWindows(DataSet)\n",
    "    #切割預測資料\n",
    "    x_predict = lstm.SplitDatatoPredict(DataSet, ColumnList, NumOfPredictDay)\n",
    "    original_value = x_predict[0][0][len(ColumnList) - 1]\n",
    "    x_predict = lstm.NormaliseWindows(x_predict)\n",
    "    \n",
    "    model = keras.models.load_model(\"../model/\" + str(i) + '.h5')\n",
    "    \n",
    "    predictions = lstm.predict_point_by_point(model, x_predict)\n",
    "\n",
    "    #lstm.plot_predict(predictions, NumOfPredictDay, x_predict)\n",
    "    \n",
    "    x_predict = np.reshape(x_predict, (x_predict.shape[1], x_predict.shape[2]))\n",
    "    x_predict = x_predict[:,-1:]\n",
    "\n",
    "    StoreData = pd.DataFrame(columns=['Data'], index=range(len(predictions) + len(x_predict)))\n",
    "    for i in range(len(StoreData)):\n",
    "        if i < len(x_predict):\n",
    "            StoreData.iloc[i] = x_predict[i]\n",
    "        else:\n",
    "            StoreData.iloc[i] = predictions[i - len(x_predict)]\n",
    "            \n",
    "    StoreData = StoreData.applymap(lambda x: (x + 1) * original_value)        \n",
    "    StoreData.to_pickle('../predict/' + PredictCSVName[:-4] + '.pickle')\n",
    "    StoreData.to_json('../json/' + PredictCSVName[:-4] + '.json')\n",
    "    StoreData.to_csv('../predict/' + PredictCSVName)\n",
    "    print('Predict duration (s) : ',time.time() - forloop_start_time)\n",
    "\n",
    "print('Total predict duration (s) : ',time.time() - global_start_time)"
   ]
  },
  {
   "cell_type": "code",
   "execution_count": null,
   "metadata": {
    "collapsed": true,
    "scrolled": true
   },
   "outputs": [],
   "source": []
  },
  {
   "cell_type": "code",
   "execution_count": 36,
   "metadata": {
    "scrolled": false
   },
   "outputs": [
    {
     "name": "stdout",
     "output_type": "stream",
     "text": [
      "(3028, 50, 7)\n",
      "(3028, 3)\n",
      "(1, 50, 7)\n",
      "(3, 1)\n"
     ]
    },
    {
     "data": {
      "text/plain": [
       "<matplotlib.figure.Figure at 0x12b38efd0>"
      ]
     },
     "metadata": {},
     "output_type": "display_data"
    },
    {
     "data": {
      "image/png": "[encoded data removed]",
      "text/plain": [
       "<matplotlib.figure.Figure at 0x127608a90>"
      ]
     },
     "metadata": {},
     "output_type": "display_data"
    }
   ],
   "source": [
    "x_train, y_train, x_test, y_test = lstm.SplitDatatoTest(NormalizeData, ColumnList, NumOfPredictDay)\n",
    "#預測\n",
    "predictions = lstm.predict_point_by_point(model, x_test)\n",
    "lstm.plot_predict(predictions, NumOfPredictDay, x_test, y_test)"
   ]
  },
  {
   "cell_type": "code",
   "execution_count": 6,
   "metadata": {},
   "outputs": [
    {
     "name": "stdout",
     "output_type": "stream",
     "text": [
      "Search duration (s) :  0.0011892318725585938\n",
      "Load duration (s) :  4.38690185546875e-05\n"
     ]
    }
   ],
   "source": [
    "import pandas as pd\n",
    "import time\n",
    "\n",
    "def search(Filename,WindowSize,NumOfPredictDay):\n",
    "    #\n",
    "    start_time = time.time()\n",
    "    PredictInformation = pd.read_pickle('../predict/PredictInformation.pickle')\n",
    "    for i in range(len(PredictInformation)):\n",
    "        if PredictInformation['FileName'][i] == Filename:\n",
    "            if PredictInformation['WindowSize'][i] == WindowSize:\n",
    "                if PredictInformation['NumOfPredictDay'][i] == NumOfPredictDay:\n",
    "                    #\n",
    "                    print('Search duration (s) : ',time.time() - start_time)\n",
    "                    \n",
    "                    return PredictInformation['PredictCSVName'][i]\n",
    "\n",
    "Filename = \"2002.csv\"\n",
    "#Column = []\n",
    "#WindowSize = [50,100]\n",
    "WindowSize = 100\n",
    "#NumOfPredictDay = [3,7,10,30]\n",
    "NumOfPredictDay = 30\n",
    "#Layer = []\n",
    "#Loss = []\n",
    "#Optimizer = []\n",
    "#BatchSize = []\n",
    "EpochList = 10\n",
    "#ValidationSplit = []\n",
    "\n",
    "CSVName = search(Filename,WindowSize,NumOfPredictDay)\n",
    "forloop_start_time = time.time()\n",
    "#model = keras.models.load_model(\"../model/\" + ModelName)\n",
    "print('Load duration (s) : ',time.time() - forloop_start_time)"
   ]
  },
  {
   "cell_type": "code",
   "execution_count": 12,
   "metadata": {},
   "outputs": [
    {
     "data": {
      "text/plain": [
       "['1560.csv',\n",
       " '2002.csv',\n",
       " '2317.csv',\n",
       " '2330.csv',\n",
       " '2332.csv',\n",
       " '2409.csv',\n",
       " '3008.csv',\n",
       " '3481.csv']"
      ]
     },
     "execution_count": 12,
     "metadata": {},
     "output_type": "execute_result"
    }
   ],
   "source": [
    "import numpy as np\n",
    "import os\n",
    "\n",
    "StoreData = pd.read_pickle('../predict/' + CSVName[:-4] + '.pickle')\n",
    "x_predict = np.array(StoreData.iloc[:WindowSize])\n",
    "y_predict = np.array(StoreData.iloc[WindowSize:])\n",
    "DirList = list(os.listdir(\"../data\"))[0:]\n",
    "DirList"
   ]
  },
  {
   "cell_type": "code",
   "execution_count": 9,
   "metadata": {},
   "outputs": [
    {
     "data": {
      "image/png": "[encoded data removed]",
      "text/plain": [
       "<matplotlib.figure.Figure at 0x123316128>"
      ]
     },
     "metadata": {},
     "output_type": "display_data"
    }
   ],
   "source": [
    "import matplotlib.pyplot as plt\n",
    "#plt true_data\n",
    "fig = plt.figure(facecolor='white')\n",
    "ax = fig.add_subplot(111)\n",
    "ax.plot(list(x_predict), label='True Data')\n",
    "#plt predicted_data\n",
    "padding = [None for p in range(len(x_predict)-1)]\n",
    "plt.plot(padding + list(x_predict[-1]) + list(y_predict), label='Prediction')\n",
    "plt.legend()\n",
    "plt.show()\n",
    "plt.clf()"
   ]
  },
  {
   "cell_type": "code",
   "execution_count": null,
   "metadata": {
    "collapsed": true
   },
   "outputs": [],
   "source": []
  },
  {
   "cell_type": "code",
   "execution_count": null,
   "metadata": {
    "collapsed": true
   },
   "outputs": [],
   "source": []
  }
 ],
 "metadata": {
  "kernelspec": {
   "display_name": "Python 3",
   "language": "python",
   "name": "python3"
  },
  "language_info": {
   "codemirror_mode": {
    "name": "ipython",
    "version": 3
   },
   "file_extension": ".py",
   "mimetype": "text/x-python",
   "name": "python",
   "nbconvert_exporter": "python",
   "pygments_lexer": "ipython3",
   "version": "3.6.1"
  }
 },
 "nbformat": 4,
 "nbformat_minor": 2
}
