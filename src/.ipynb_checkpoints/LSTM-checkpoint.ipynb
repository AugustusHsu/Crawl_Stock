{
 "cells": [
  {
   "cell_type": "code",
   "execution_count": 1,
   "metadata": {
    "collapsed": true
   },
   "outputs": [],
   "source": [
    "import os\n",
    "import time\n",
    "import warnings\n",
    "import numpy as np\n",
    "import pandas as pd\n",
    "from numpy import newaxis\n",
    "\n",
    "os.environ['TF_CPP_MIN_LOG_LEVEL'] = '3' #Hide messy TensorFlow warnings\n",
    "warnings.filterwarnings(\"ignore\") #Hide messy Numpy warnings\n",
    "\n",
    "#讀檔\n",
    "def LoadData(Filename, ColumnList, WindowSize, NumOfPredictDay):\n",
    "    #Filename = \"../data/2002.csv\"\n",
    "    #ColumnList = [\"成交股數\",\"成交金額\",\"成交筆數\",\"開盤價\",\"最後揭示買價\",\"最後揭示賣價\",\"收盤價\"]\n",
    "    #ColumnList = [\"成交股數\",\"成交金額\",\"成交筆數\",\"漲跌價差\",\"最後揭示買價\",\"最後揭示賣價\",\"收盤價\"]\n",
    "    #WindowSize = 50\n",
    "    #NumOfPredictDay = 1|7|10|30\n",
    "    \n",
    "    #用pandas讀檔\n",
    "    df = pd.read_csv(Filename)\n",
    "    data = df.loc[:,ColumnList]\n",
    "    \n",
    "    #找非數字的欄位'--' 替換成 0\n",
    "    for datashape_0 in range(data.shape[0]):\n",
    "        for datashape_1 in range(data.shape[1]):\n",
    "            if data.iloc[datashape_0,datashape_1] == '--':\n",
    "                data.iloc[datashape_0,datashape_1] = 0\n",
    "    \n",
    "    #切割一筆一筆資料：TrainSet,TestSet的天數:WindowSize,NumOfPredictDay\n",
    "    sequence_length = WindowSize + NumOfPredictDay\n",
    "    #print(len(data))\n",
    "    \n",
    "    temp = []\n",
    "    #減掉TrainSet+TestSet的大小,預防超過\n",
    "    for index in range(len(data) - sequence_length):\n",
    "        temp.append(data.iloc[index:index+sequence_length,:])\n",
    "        #print(data[index: index + sequence_length])\n",
    "    result = []\n",
    "    for index in range(len(temp)):\n",
    "        result.append(np.array(temp[index]))\n",
    "    result = np.array(result)\n",
    "    result = np.float32(result)\n",
    "    return result\n",
    "\n",
    "#切割資料集\n",
    "def SplitData(result, ColumnList, NumOfPredictDay):\n",
    "    #分割9:1的訓練資料集跟測試資料集\n",
    "    row = round(0.9 * result.shape[0])\n",
    "    train = result[:int(row), :]\n",
    "    np.random.shuffle(train)\n",
    "    #前seq_len＋1當作input(x)\n",
    "    #最後一個當作output(y)\n",
    "    x_train = train[:, :-1*NumOfPredictDay]\n",
    "    y_train = train[:, -1*NumOfPredictDay:,len(ColumnList)-1:len(ColumnList)]\n",
    "    x_test = result[int(row):, :-1*NumOfPredictDay]\n",
    "    y_test = result[int(row):, -1*NumOfPredictDay:,len(ColumnList)-1:len(ColumnList)]\n",
    "    \n",
    "    y_train = np.reshape(y_train, (y_train.shape[0], y_train.shape[1]))\n",
    "    y_test = np.reshape(y_test, (y_test.shape[0], y_test.shape[1]))  \n",
    "    \n",
    "    return [x_train, y_train, x_test, y_test]\n",
    "\n",
    "#正規化\n",
    "def NormaliseWindows(result):\n",
    "    for resultshape_0 in range(result.shape[0]):\n",
    "        for resultshape_2 in range(result.shape[2]):\n",
    "            base = float(result[resultshape_0 : resultshape_0 + 1, :1 , resultshape_2 : resultshape_2 + 1])\n",
    "            if base != 0:\n",
    "                for resultshape_1 in range(result.shape[1]):\n",
    "                    vala = float(result[resultshape_0 : resultshape_0 + 1, resultshape_1 : resultshape_1 + 1, resultshape_2 : resultshape_2 + 1])\n",
    "                    #print(vala)\n",
    "                    result[resultshape_0 : resultshape_0 + 1, resultshape_1 : resultshape_1 + 1, resultshape_2 : resultshape_2 + 1] = vala / base - 1\n",
    "    return result"
   ]
  },
  {
   "cell_type": "code",
   "execution_count": 4,
   "metadata": {
    "collapsed": true
   },
   "outputs": [],
   "source": [
    "#Filename = \"../data/2002.csv\"\n",
    "#最後一筆要是比對用的y_train,y_test\n",
    "#ColumnList = [\"成交股數\",\"成交金額\",\"成交筆數\",\"開盤價\",\"最後揭示買價\",\"最後揭示賣價\",\"收盤價\"]\n",
    "#ColumnList = [\"成交股數\",\"成交金額\",\"成交筆數\",\"漲跌價差\",\"最後揭示買價\",\"最後揭示賣價\",\"收盤價\"]\n",
    "#WindowSize = 50\n",
    "#NumOfPredictDay = 1|7|10|30\n",
    "\n",
    "Filename = \"../data/2002.csv\"\n",
    "ColumnList = [\"成交股數\",\"成交金額\",\"成交筆數\",\"開盤價\",\"最後揭示買價\",\"最後揭示賣價\",\"收盤價\"]\n",
    "WindowSize = 50\n",
    "NumOfPredictDay = 1\n",
    "\n",
    "#載入資料\n",
    "DataSet = LoadData(Filename, ColumnList, WindowSize, NumOfPredictDay)\n",
    "#正規化資料\n",
    "NormalizeData = NormaliseWindows(DataSet)\n",
    "#切割資料\n",
    "x_train, y_train, x_test, y_test = SplitData(NormalizeData, ColumnList, NumOfPredictDay)"
   ]
  },
  {
   "cell_type": "code",
   "execution_count": null,
   "metadata": {
    "collapsed": true
   },
   "outputs": [],
   "source": [
    "from keras.layers.core import Dense, Activation, Dropout\n",
    "from keras.layers.recurrent import LSTM\n",
    "from keras.models import Sequential\n",
    "#建立訓練模型\n",
    "def build_model(Layer, Loss = \"mse\", Optimizer = \"adam\"):\n",
    "    #Layer = [len(ColumnList), 50, 100,NumOfPredictDay]\n",
    "    #Loss = \"mse\"\n",
    "    #Optimizer = \"adam\"\n",
    "    model = Sequential()\n",
    "    \n",
    "    model.add(LSTM( input_dim = Layer[0],\n",
    "                    output_dim = Layer[1],\n",
    "                    return_sequences = True))\n",
    "    model.add(Dropout(0.2))\n",
    "    \n",
    "    model.add(LSTM(Layer[2], return_sequences = False))\n",
    "    model.add(Dropout(0.2))\n",
    "    \n",
    "    model.add(Dense(output_dim = Layer[3]))\n",
    "    model.add(Activation(\"linear\"))\n",
    "    \n",
    "    start = time.time()\n",
    "    model.compile(loss=Loss, optimizer=Optimizer)\n",
    "    print(\"> Compilation Time : \", time.time() - start)\n",
    "    return model\n",
    "\n",
    "def predict_point_by_point(model, data):\n",
    "    #Predict each timestep given the last sequence of true data, in effect only predicting 1 step ahead each time\n",
    "    predicted = model.predict(data)\n",
    "    predicted = np.reshape(predicted, (predicted.size,))\n",
    "    return predicted\n",
    "\n",
    "def predict_sequences_multiple(model, data, window_size, prediction_len):\n",
    "    #Predict sequence of 50 steps before shifting prediction run forward by 50 steps\n",
    "    prediction_seqs = []\n",
    "    for i in range(int(len(data)/prediction_len)):\n",
    "        curr_frame = data[i*prediction_len]\n",
    "        predicted = []\n",
    "        for j in range(prediction_len):\n",
    "            predicted.append(model.predict(curr_frame[newaxis,:,:])[0,0])\n",
    "            curr_frame = curr_frame[1:]\n",
    "            curr_frame = np.insert(curr_frame, [window_size-1], predicted[-1], axis=0)\n",
    "        prediction_seqs.append(predicted)\n",
    "    return prediction_seqs"
   ]
  },
  {
   "cell_type": "code",
   "execution_count": 5,
   "metadata": {},
   "outputs": [
    {
     "name": "stdout",
     "output_type": "stream",
     "text": [
      "> Compilation Time :  0.030209064483642578\n",
      "Train on 2648 samples, validate on 295 samples\n",
      "Epoch 1/10\n",
      "2648/2648 [==============================] - 6s - loss: 0.0069 - val_loss: 0.0033\n",
      "Epoch 2/10\n",
      "2648/2648 [==============================] - 4s - loss: 0.0034 - val_loss: 0.0039\n",
      "Epoch 3/10\n",
      "2648/2648 [==============================] - 4s - loss: 0.0023 - val_loss: 0.0022\n",
      "Epoch 4/10\n",
      "2648/2648 [==============================] - 4s - loss: 0.0018 - val_loss: 0.0014\n",
      "Epoch 5/10\n",
      "2648/2648 [==============================] - 4s - loss: 0.0016 - val_loss: 0.0013\n",
      "Epoch 6/10\n",
      "2648/2648 [==============================] - 4s - loss: 0.0015 - val_loss: 0.0017\n",
      "Epoch 7/10\n",
      "2648/2648 [==============================] - 4s - loss: 0.0013 - val_loss: 0.0017\n",
      "Epoch 8/10\n",
      "2648/2648 [==============================] - 4s - loss: 0.0013 - val_loss: 0.0012\n",
      "Epoch 9/10\n",
      "2648/2648 [==============================] - 4s - loss: 0.0013 - val_loss: 0.0011\n",
      "Epoch 10/10\n",
      "2648/2648 [==============================] - 4s - loss: 0.0013 - val_loss: 0.0020\n"
     ]
    },
    {
     "data": {
      "text/plain": [
       "<keras.callbacks.History at 0x125481a90>"
      ]
     },
     "execution_count": 5,
     "metadata": {},
     "output_type": "execute_result"
    }
   ],
   "source": [
    "Layer = [len(ColumnList), 50, 100,NumOfPredictDay]\n",
    "Loss = \"mse\"\n",
    "Optimizer = \"adam\"\n",
    "\n",
    "#建立LSTM模型\n",
    "model = build_model(Layer,Loss,Optimizer)\n",
    "\n",
    "BatchSize = 512\n",
    "Epoch = 10\n",
    "ValidationSplit = 0.1\n",
    "#訓練LSTM模型\n",
    "model.fit(  x_train,\n",
    "            y_train,\n",
    "            batch_size=BatchSize,\n",
    "            nb_epoch=Epoch,\n",
    "            validation_split=ValidationSplit)\n",
    "\n",
    "#預測\n",
    "#predictions = predict_sequences_multiple(model, x_test, WindowSize, 50)\n",
    "#x = np.reshape(x_test[9], (1,x_test[9].shape[0], x_test[9].shape[1]))\n",
    "#predictions = predict_point_by_point(model, x)\n",
    "#x = np.reshape(x_test, (x_test[9].shape, x_test.shape[1]))\n",
    "predictions = predict_point_by_point(model, x_test)"
   ]
  },
  {
   "cell_type": "code",
   "execution_count": 8,
   "metadata": {
    "collapsed": true
   },
   "outputs": [],
   "source": [
    "import matplotlib.pyplot as plt\n",
    "def plot_results_multiple(predicted_data, true_data, prediction_len, csv_name):\n",
    "    '''\n",
    "    #存預測圖\n",
    "    fig = plt.figure(facecolor='white')\n",
    "    ax = fig.add_subplot(111)\n",
    "    ax.plot(true_data, label='True Data')\n",
    "    #Pad the list of predictions to shift it in the graph to it's correct start\n",
    "    for i, data in enumerate(predicted_data):\n",
    "        padding = [None for p in range(i * prediction_len)]\n",
    "        plt.plot(padding + data, label='Prediction')\n",
    "        plt.legend()\n",
    "    plt.title(str(graph_store_path) + str(csv_name))\n",
    "\n",
    "    savefigpath = str(graph_store_path) + str(csv_name) + \".png\"\n",
    "    plt.savefig(savefigpath,dpi=500,format=\"png\") \n",
    "    plt.clf()\n",
    "    '''\n",
    "    #印出預測圖\n",
    "    fig = plt.figure(facecolor='white')\n",
    "    ax = fig.add_subplot(111)\n",
    "    ax.plot(true_data, label='True Data')\n",
    "    #Pad the list of predictions to shift it in the graph to it's correct start\n",
    "    for i, data in enumerate(predicted_data):\n",
    "        padding = [None for p in range(i * prediction_len)]\n",
    "        plt.plot(padding + data, label='Prediction')\n",
    "        plt.legend()\n",
    "    plt.title(csv_name)\n",
    "        \n",
    "    plt.show()\n",
    "    plt.clf()\n",
    "    \n",
    "def plot_results(predicted_data, true_data):\n",
    "    fig = plt.figure(facecolor='white')\n",
    "    ax = fig.add_subplot(111)\n",
    "    ax.plot(true_data, label='True Data')\n",
    "    plt.plot(predicted_data, label='Prediction')\n",
    "    plt.legend()\n",
    "    plt.show()\n",
    "    plt.clf()"
   ]
  },
  {
   "cell_type": "code",
   "execution_count": 12,
   "metadata": {},
   "outputs": [
    {
     "data": {
      "image/png": "[encoded data removed]",
      "text/plain": [
       "<matplotlib.figure.Figure at 0x12606e160>"
      ]
     },
     "metadata": {},
     "output_type": "display_data"
    }
   ],
   "source": [
    "#plot_results_multiple(predictions, y_test, 50, \"2002\")\n",
    "plot_results(predictions, y_test)"
   ]
  },
  {
   "cell_type": "code",
   "execution_count": 5,
   "metadata": {},
   "outputs": [
    {
     "name": "stdout",
     "output_type": "stream",
     "text": [
      "(2943, 50, 7)\n",
      "(2943, 1)\n",
      "(327, 50, 7)\n",
      "(327, 1)\n"
     ]
    }
   ],
   "source": [
    "print(x_train.shape)\n",
    "print(y_train.shape)\n",
    "print(x_test.shape)\n",
    "print(y_test.shape)"
   ]
  },
  {
   "cell_type": "code",
   "execution_count": 11,
   "metadata": {
    "scrolled": true
   },
   "outputs": [
    {
     "data": {
      "text/plain": [
       "327"
      ]
     },
     "execution_count": 11,
     "metadata": {},
     "output_type": "execute_result"
    }
   ],
   "source": [
    "pd.DataFrame(x_test[0])\n",
    "len(x_test)"
   ]
  },
  {
   "cell_type": "code",
   "execution_count": null,
   "metadata": {
    "collapsed": true
   },
   "outputs": [],
   "source": [
    "predictions"
   ]
  },
  {
   "cell_type": "code",
   "execution_count": null,
   "metadata": {
    "collapsed": true
   },
   "outputs": [],
   "source": [
    "y_test[1]"
   ]
  },
  {
   "cell_type": "code",
   "execution_count": null,
   "metadata": {
    "collapsed": true
   },
   "outputs": [],
   "source": []
  },
  {
   "cell_type": "code",
   "execution_count": null,
   "metadata": {
    "collapsed": true
   },
   "outputs": [],
   "source": []
  }
 ],
 "metadata": {
  "kernelspec": {
   "display_name": "Python 3",
   "language": "python",
   "name": "python3"
  },
  "language_info": {
   "codemirror_mode": {
    "name": "ipython",
    "version": 3
   },
   "file_extension": ".py",
   "mimetype": "text/x-python",
   "name": "python",
   "nbconvert_exporter": "python",
   "pygments_lexer": "ipython3",
   "version": "3.6.1"
  }
 },
 "nbformat": 4,
 "nbformat_minor": 2
}
