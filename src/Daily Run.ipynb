{
 "cells": [
  {
   "cell_type": "code",
   "execution_count": 1,
   "metadata": {},
   "outputs": [
    {
     "name": "stderr",
     "output_type": "stream",
     "text": [
      "Using TensorFlow backend.\n"
     ]
    },
    {
     "name": "stdout",
     "output_type": "stream",
     "text": [
      "['2317.csv', '2330.csv', '2332.csv', '2409.csv', '3008.csv', '3481.csv']\n",
      "Update...\n",
      "2317\n",
      "From 2017/08/09 to 2017/08/08 (Today)\n",
      "2330\n",
      "From 2017/08/09 to 2017/08/08 (Today)\n",
      "2332\n",
      "From 2017/08/09 to 2017/08/08 (Today)\n",
      "2409\n",
      "From 2017/08/09 to 2017/08/08 (Today)\n",
      "3008\n",
      "From 2017/08/09 to 2017/08/08 (Today)\n",
      "3481\n",
      "From 2017/08/09 to 2017/08/08 (Today)\n"
     ]
    },
    {
     "data": {
      "text/plain": [
       "[]"
      ]
     },
     "execution_count": 1,
     "metadata": {},
     "output_type": "execute_result"
    }
   ],
   "source": [
    "import CrawlStock\n",
    "import lstm\n",
    "import pandas as pd\n",
    "pd.DataFrame\n",
    "\n",
    "\n",
    "CrawlStock.DailyUpdate()\n",
    "Stock_ID = ['2330','2002','3008','2332','1560','2317','3481','2409']\n",
    "CrawlID = CrawlStock.CheckCSV(Stock_ID)\n",
    "#CrawlStock.Get_Stock_DATA(Stock_ID = CrawlID)\n",
    "CrawlID"
   ]
  },
  {
   "cell_type": "code",
   "execution_count": 2,
   "metadata": {
    "scrolled": false
   },
   "outputs": [
    {
     "name": "stdout",
     "output_type": "stream",
     "text": [
      "Predict the 0.h5 model\n",
      "(1, 50, 7)\n",
      "Predict duration (s) :  7.46215295791626\n",
      "Predict the 1.h5 model\n",
      "(1, 50, 7)\n",
      "Predict duration (s) :  7.870999813079834\n",
      "Predict the 2.h5 model\n",
      "(1, 50, 7)\n",
      "Predict duration (s) :  7.8395164012908936\n",
      "Predict the 3.h5 model\n",
      "(1, 50, 7)\n",
      "Predict duration (s) :  8.762822151184082\n",
      "Predict the 4.h5 model\n",
      "(1, 100, 7)\n",
      "Predict duration (s) :  9.892316818237305\n",
      "Predict the 5.h5 model\n",
      "(1, 100, 7)\n",
      "Predict duration (s) :  9.864232778549194\n",
      "Predict the 6.h5 model\n",
      "(1, 100, 7)\n",
      "Predict duration (s) :  10.842808961868286\n",
      "Predict the 7.h5 model\n",
      "(1, 100, 7)\n",
      "Predict duration (s) :  11.848057985305786\n",
      "Predict the 8.h5 model\n",
      "(1, 50, 7)\n",
      "Predict duration (s) :  9.407524347305298\n",
      "Predict the 9.h5 model\n",
      "(1, 50, 7)\n",
      "Predict duration (s) :  9.668718099594116\n",
      "Predict the 10.h5 model\n",
      "(1, 50, 7)\n",
      "Predict duration (s) :  10.886234521865845\n",
      "Predict the 11.h5 model\n",
      "(1, 50, 7)\n",
      "Predict duration (s) :  11.771854877471924\n",
      "Predict the 12.h5 model\n",
      "(1, 100, 7)\n",
      "Predict duration (s) :  12.224328517913818\n",
      "Predict the 13.h5 model\n",
      "(1, 100, 7)\n",
      "Predict duration (s) :  12.323604106903076\n",
      "Predict the 14.h5 model\n",
      "(1, 100, 7)\n",
      "Predict duration (s) :  13.252770900726318\n",
      "Predict the 15.h5 model\n",
      "(1, 100, 7)\n",
      "Predict duration (s) :  13.317499876022339\n",
      "Predict the 16.h5 model\n",
      "(1, 50, 7)\n",
      "Predict duration (s) :  12.126424789428711\n",
      "Predict the 17.h5 model\n",
      "(1, 50, 7)\n",
      "Predict duration (s) :  12.413634061813354\n",
      "Predict the 18.h5 model\n",
      "(1, 50, 7)\n",
      "Predict duration (s) :  12.68729019165039\n",
      "Predict the 19.h5 model\n",
      "(1, 50, 7)\n",
      "Predict duration (s) :  14.249432802200317\n",
      "Predict the 20.h5 model\n",
      "(1, 100, 7)\n",
      "Predict duration (s) :  14.483148336410522\n",
      "Predict the 21.h5 model\n",
      "(1, 100, 7)\n",
      "Predict duration (s) :  14.76671814918518\n",
      "Predict the 22.h5 model\n",
      "(1, 100, 7)\n",
      "Predict duration (s) :  17.173983335494995\n",
      "Predict the 23.h5 model\n",
      "(1, 100, 7)\n",
      "Predict duration (s) :  16.05730891227722\n",
      "Predict the 24.h5 model\n",
      "(1, 50, 7)\n",
      "Predict duration (s) :  14.364734888076782\n",
      "Predict the 25.h5 model\n",
      "(1, 50, 7)\n",
      "Predict duration (s) :  16.172016620635986\n",
      "Predict the 26.h5 model\n",
      "(1, 50, 7)\n",
      "Predict duration (s) :  17.799322366714478\n",
      "Predict the 27.h5 model\n",
      "(1, 50, 7)\n",
      "Predict duration (s) :  17.447007417678833\n",
      "Predict the 28.h5 model\n",
      "(1, 100, 7)\n",
      "Predict duration (s) :  18.187650680541992\n",
      "Predict the 29.h5 model\n",
      "(1, 100, 7)\n",
      "Predict duration (s) :  18.825705528259277\n",
      "Predict the 30.h5 model\n",
      "(1, 100, 7)\n",
      "Predict duration (s) :  19.60920000076294\n",
      "Predict the 31.h5 model\n",
      "(1, 100, 7)\n",
      "Predict duration (s) :  21.552496433258057\n",
      "Predict the 32.h5 model\n",
      "(1, 50, 7)\n",
      "Predict duration (s) :  17.047444581985474\n",
      "Predict the 33.h5 model\n",
      "(1, 50, 7)\n",
      "Predict duration (s) :  19.400179862976074\n",
      "Predict the 34.h5 model\n",
      "(1, 50, 7)\n",
      "Predict duration (s) :  18.773980379104614\n",
      "Predict the 35.h5 model\n",
      "(1, 50, 7)\n",
      "Predict duration (s) :  19.337015867233276\n",
      "Predict the 36.h5 model\n",
      "(1, 100, 7)\n",
      "Predict duration (s) :  23.52195429801941\n",
      "Predict the 37.h5 model\n",
      "(1, 100, 7)\n",
      "Predict duration (s) :  21.292304754257202\n",
      "Predict the 38.h5 model\n",
      "(1, 100, 7)\n",
      "Predict duration (s) :  23.09050965309143\n",
      "Predict the 39.h5 model\n",
      "(1, 100, 7)\n",
      "Predict duration (s) :  23.333765506744385\n",
      "Predict the 40.h5 model\n",
      "(1, 50, 7)\n",
      "Predict duration (s) :  20.053231954574585\n",
      "Predict the 41.h5 model\n",
      "(1, 50, 7)\n",
      "Predict duration (s) :  21.2452712059021\n",
      "Predict the 42.h5 model\n",
      "(1, 50, 7)\n",
      "Predict duration (s) :  21.625926971435547\n",
      "Predict the 43.h5 model\n",
      "(1, 50, 7)\n",
      "Predict duration (s) :  25.28518581390381\n",
      "Predict the 44.h5 model\n",
      "(1, 100, 7)\n",
      "Predict duration (s) :  24.37524151802063\n",
      "Predict the 45.h5 model\n",
      "(1, 100, 7)\n",
      "Predict duration (s) :  25.00092053413391\n",
      "Predict the 46.h5 model\n",
      "(1, 100, 7)\n",
      "Predict duration (s) :  25.452688217163086\n",
      "Predict the 47.h5 model\n",
      "(1, 100, 7)\n",
      "Predict duration (s) :  26.752545595169067\n",
      "Predict the 48.h5 model\n",
      "(1, 50, 7)\n",
      "Predict duration (s) :  25.388672828674316\n",
      "Predict the 49.h5 model\n",
      "(1, 50, 7)\n",
      "Predict duration (s) :  24.665385007858276\n",
      "Predict the 50.h5 model\n",
      "(1, 50, 7)\n",
      "Predict duration (s) :  27.196958303451538\n",
      "Predict the 51.h5 model\n",
      "(1, 50, 7)\n",
      "Predict duration (s) :  26.21582865715027\n",
      "Predict the 52.h5 model\n",
      "(1, 100, 7)\n",
      "Predict duration (s) :  27.84837317466736\n",
      "Predict the 53.h5 model\n",
      "(1, 100, 7)\n",
      "Predict duration (s) :  29.36418080329895\n",
      "Predict the 54.h5 model\n",
      "(1, 100, 7)\n",
      "Predict duration (s) :  30.922494888305664\n",
      "Predict the 55.h5 model\n",
      "(1, 100, 7)\n",
      "Predict duration (s) :  31.120858192443848\n",
      "Total predict duration (s) :  1003.4774632453918\n"
     ]
    }
   ],
   "source": [
    "import pandas as pd\n",
    "import lstm\n",
    "import time\n",
    "import keras\n",
    "import numpy as np\n",
    "\n",
    "ColumnList = [\"成交股數\",\"成交金額\",\"成交筆數\",\"開盤價\",\"最後揭示買價\",\"最後揭示賣價\",\"收盤價\"]\n",
    "\n",
    "global_start_time = time.time()\n",
    "PredictInformation = pd.read_pickle(\"../predict/PredictInformation.pickle\")\n",
    "\n",
    "for i in range(len(PredictInformation)):\n",
    "    forloop_start_time = time.time()\n",
    "    #\n",
    "    FileName = PredictInformation['FileName'][i]\n",
    "    WindowSize = PredictInformation['WindowSize'][i]\n",
    "    NumOfPredictDay = PredictInformation['NumOfPredictDay'][i]\n",
    "    PredictCSVName = PredictInformation['PredictCSVName'][i]\n",
    "    \n",
    "    print('Predict the ' + str(i) + '.h5 model')\n",
    "    \n",
    "    #載入資料\n",
    "    DataSet = lstm.LoadData(FileName, ColumnList, WindowSize, NumOfPredictDay)\n",
    "    #正規化資料\n",
    "    NormalizeData = lstm.NormaliseWindows(DataSet)\n",
    "    #切割預測資料\n",
    "    x_predict = lstm.SplitDatatoPredict(DataSet, ColumnList, NumOfPredictDay)\n",
    "    original_value = x_predict[0][0][len(ColumnList) - 1]\n",
    "    x_predict = lstm.NormaliseWindows(x_predict)\n",
    "    \n",
    "    model = keras.models.load_model(\"../model/\" + str(i) + '.h5')\n",
    "    \n",
    "    predictions = lstm.predict_point_by_point(model, x_predict)\n",
    "\n",
    "    #lstm.plot_predict(predictions, NumOfPredictDay, x_predict)\n",
    "    \n",
    "    x_predict = np.reshape(x_predict, (x_predict.shape[1], x_predict.shape[2]))\n",
    "    x_predict = x_predict[:,-1:]\n",
    "\n",
    "    StoreData = pd.DataFrame(columns=['Data'], index=range(len(predictions) + len(x_predict)))\n",
    "    for i in range(len(StoreData)):\n",
    "        if i < len(x_predict):\n",
    "            StoreData.iloc[i] = x_predict[i]\n",
    "        else:\n",
    "            StoreData.iloc[i] = predictions[i - len(x_predict)]\n",
    "            \n",
    "    StoreData = StoreData.applymap(lambda x: (x + 1) * original_value)        \n",
    "    StoreData.to_pickle('../predict/' + PredictCSVName[:-4] + '.pickle')\n",
    "    StoreData.to_csv('../predict/' + PredictCSVName)\n",
    "    print('Predict duration (s) : ',time.time() - forloop_start_time)\n",
    "\n",
    "print('Total predict duration (s) : ',time.time() - global_start_time)"
   ]
  },
  {
   "cell_type": "code",
   "execution_count": null,
   "metadata": {
    "collapsed": true,
    "scrolled": true
   },
   "outputs": [],
   "source": []
  },
  {
   "cell_type": "code",
   "execution_count": 36,
   "metadata": {
    "scrolled": false
   },
   "outputs": [
    {
     "name": "stdout",
     "output_type": "stream",
     "text": [
      "(3028, 50, 7)\n",
      "(3028, 3)\n",
      "(1, 50, 7)\n",
      "(3, 1)\n"
     ]
    },
    {
     "data": {
      "text/plain": [
       "<matplotlib.figure.Figure at 0x12b38efd0>"
      ]
     },
     "metadata": {},
     "output_type": "display_data"
    },
    {
     "data": {
      "image/png": "[encoded data removed]",
      "text/plain": [
       "<matplotlib.figure.Figure at 0x127608a90>"
      ]
     },
     "metadata": {},
     "output_type": "display_data"
    }
   ],
   "source": [
    "x_train, y_train, x_test, y_test = lstm.SplitDatatoTest(NormalizeData, ColumnList, NumOfPredictDay)\n",
    "#預測\n",
    "predictions = lstm.predict_point_by_point(model, x_test)\n",
    "lstm.plot_predict(predictions, NumOfPredictDay, x_test, y_test)"
   ]
  },
  {
   "cell_type": "code",
   "execution_count": 27,
   "metadata": {},
   "outputs": [
    {
     "name": "stdout",
     "output_type": "stream",
     "text": [
      "Search duration (s) :  0.001504659652709961\n",
      "Load duration (s) :  0.0\n"
     ]
    }
   ],
   "source": [
    "import pandas as pd\n",
    "import time\n",
    "\n",
    "def search(Filename,WindowSize,NumOfPredictDay):\n",
    "    #\n",
    "    start_time = time.time()\n",
    "    PredictInformation = pd.read_pickle('../predict/PredictInformation.pickle')\n",
    "    for i in range(len(PredictInformation)):\n",
    "        if PredictInformation['FileName'][i] == Filename:\n",
    "            if PredictInformation['WindowSize'][i] == WindowSize:\n",
    "                if PredictInformation['NumOfPredictDay'][i] == NumOfPredictDay:\n",
    "                    #\n",
    "                    print('Search duration (s) : ',time.time() - start_time)\n",
    "                    \n",
    "                    return PredictInformation['PredictCSVName'][i]\n",
    "\n",
    "Filename = \"3008.csv\"\n",
    "#Column = []\n",
    "#WindowSize = [50,100]\n",
    "WindowSize = 100\n",
    "#NumOfPredictDay = [3,7,10,30]\n",
    "NumOfPredictDay = 30\n",
    "#Layer = []\n",
    "#Loss = []\n",
    "#Optimizer = []\n",
    "#BatchSize = []\n",
    "EpochList = 10\n",
    "#ValidationSplit = []\n",
    "\n",
    "CSVName = search(Filename,WindowSize,NumOfPredictDay)\n",
    "forloop_start_time = time.time()\n",
    "#model = keras.models.load_model(\"../model/\" + ModelName)\n",
    "print('Load duration (s) : ',time.time() - forloop_start_time)"
   ]
  },
  {
   "cell_type": "code",
   "execution_count": 28,
   "metadata": {},
   "outputs": [],
   "source": [
    "StoreData = pd.read_pickle('../predict/' + CSVName[:-4] + '.pickle')\n",
    "x_predict = np.array(StoreData.iloc[:WindowSize])\n",
    "y_predict = np.array(StoreData.iloc[WindowSize:])"
   ]
  },
  {
   "cell_type": "code",
   "execution_count": 29,
   "metadata": {},
   "outputs": [
    {
     "data": {
      "text/plain": [
       "<matplotlib.figure.Figure at 0x2928cad33c8>"
      ]
     },
     "metadata": {},
     "output_type": "display_data"
    },
    {
     "data": {
      "image/png": "[encoded data removed]",
      "text/plain": [
       "<matplotlib.figure.Figure at 0x2928ca9cb70>"
      ]
     },
     "metadata": {},
     "output_type": "display_data"
    }
   ],
   "source": [
    "import matplotlib.pyplot as plt\n",
    "#plt true_data\n",
    "fig = plt.figure(facecolor='white')\n",
    "ax = fig.add_subplot(111)\n",
    "ax.plot(list(x_predict), label='True Data')\n",
    "#plt predicted_data\n",
    "padding = [None for p in range(len(x_predict)-1)]\n",
    "plt.plot(padding + list(x_predict[-1]) + list(y_predict), label='Prediction')\n",
    "plt.legend()\n",
    "plt.show()\n",
    "plt.clf()"
   ]
  },
  {
   "cell_type": "code",
   "execution_count": null,
   "metadata": {
    "collapsed": true
   },
   "outputs": [],
   "source": []
  }
 ],
 "metadata": {
  "kernelspec": {
   "display_name": "Python 3",
   "language": "python",
   "name": "python3"
  },
  "language_info": {
   "codemirror_mode": {
    "name": "ipython",
    "version": 3
   },
   "file_extension": ".py",
   "mimetype": "text/x-python",
   "name": "python",
   "nbconvert_exporter": "python",
   "pygments_lexer": "ipython3",
   "version": "3.5.3"
  }
 },
 "nbformat": 4,
 "nbformat_minor": 2
}
